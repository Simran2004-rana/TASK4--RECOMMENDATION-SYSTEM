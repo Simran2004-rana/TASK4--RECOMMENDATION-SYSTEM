{
 "cells": [
  {
   "cell_type": "markdown",
   "id": "395c4d4d",
   "metadata": {},
   "source": [
    "# Task 4: Recommendation System – CodTech Internship\n",
    "This notebook builds a **Collaborative Filtering** recommendation model using the `Surprise` library on a sample movie‑ratings dataset. We train an SVD model, evaluate it with RMSE & MAE, and showcase top‑N recommendations for a selected user."
   ]
  },
  {
   "cell_type": "code",
   "execution_count": null,
   "id": "75097723",
   "metadata": {},
   "outputs": [],
   "source": [
    "# 📦 Imports\n",
    "import pandas as pd\n",
    "from surprise import Dataset, Reader, SVD, accuracy\n",
    "from surprise.model_selection import train_test_split\n",
    "import numpy as np"
   ]
  },
  {
   "cell_type": "code",
   "execution_count": null,
   "id": "7a66e9ef",
   "metadata": {},
   "outputs": [],
   "source": [
    "# 📊 Create a sample ratings dataset\n",
    "ratings_dict = {\n",
    "    'userID': [1,1,1,2,2,3,3,4,4,5],\n",
    "    'itemID': [101,102,103,102,104,102,103,101,104,103],\n",
    "    'rating': [5,3,4,2,4,5,3,4,5,4]\n",
    "}\n",
    "df = pd.DataFrame(ratings_dict)\n",
    "df"
   ]
  },
  {
   "cell_type": "code",
   "execution_count": null,
   "id": "706b9b45",
   "metadata": {},
   "outputs": [],
   "source": [
    "# 🔄 Load data into Surprise format\n",
    "reader = Reader(rating_scale=(1,5))\n",
    "data = Dataset.load_from_df(df[['userID','itemID','rating']], reader)"
   ]
  },
  {
   "cell_type": "code",
   "execution_count": null,
   "id": "9e24c83e",
   "metadata": {},
   "outputs": [],
   "source": [
    "# ✂️ Train–Test Split\n",
    "trainset, testset = train_test_split(data, test_size=0.25, random_state=42)"
   ]
  },
  {
   "cell_type": "code",
   "execution_count": null,
   "id": "cd8e37ba",
   "metadata": {},
   "outputs": [],
   "source": [
    "# 🧠 Train SVD model\n",
    "algo = SVD(random_state=42)\n",
    "algo.fit(trainset)"
   ]
  },
  {
   "cell_type": "code",
   "execution_count": null,
   "id": "9a9dac48",
   "metadata": {},
   "outputs": [],
   "source": [
    "# 📈 Evaluate model on test set\n",
    "predictions = algo.test(testset)\n",
    "rmse = accuracy.rmse(predictions, verbose=False)\n",
    "mae = accuracy.mae(predictions, verbose=False)\n",
    "print(f'🔹 RMSE: {rmse:.4f}')\n",
    "print(f'🔹 MAE : {mae:.4f}')"
   ]
  },
  {
   "cell_type": "code",
   "execution_count": null,
   "id": "876ef053",
   "metadata": {},
   "outputs": [],
   "source": [
    "# 🎯 Generate Top‑N recommendations for a user\n",
    "def get_top_n(predictions, n=3):\n",
    "    from collections import defaultdict\n",
    "    top_n = defaultdict(list)\n",
    "    for uid, iid, true_r, est, _ in predictions:\n",
    "        top_n[uid].append((iid, est))\n",
    "    for uid, user_ratings in top_n.items():\n",
    "        user_ratings.sort(key=lambda x: x[1], reverse=True)\n",
    "        top_n[uid] = user_ratings[:n]\n",
    "    return top_n\n",
    "\n",
    "# Run predictions on all (user,item) pairs not in training set\n",
    "anti_testset = trainset.build_anti_testset()\n",
    "all_pred = algo.test(anti_testset)\n",
    "top_n = get_top_n(all_pred, n=2)\n",
    "\n",
    "# Display recommendations for user 1\n",
    "user = 1\n",
    "print(f'Top recommendations for User {user}:')\n",
    "for iid, est in top_n[user]:\n",
    "    print(f'  Item {iid} with predicted rating {est:.2f}')"
   ]
  },
  {
   "cell_type": "markdown",
   "id": "888bcef0",
   "metadata": {},
   "source": [
    "### ✅ Summary\n",
    "- Built an SVD-based collaborative filtering model using the Surprise library.\n",
    "- Evaluated performance on a test split with **RMSE** and **MAE**.\n",
    "- Generated top‑N item recommendations for each user (example shown for *User 1*).\n"
   ]
  }
 ],
 "metadata": {},
 "nbformat": 4,
 "nbformat_minor": 5
}
